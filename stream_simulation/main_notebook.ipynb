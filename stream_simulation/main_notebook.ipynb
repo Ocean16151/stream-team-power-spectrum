{
 "cells": [
  {
   "cell_type": "markdown",
   "id": "62a27c61",
   "metadata": {},
   "source": [
    "# Stream simulation\n",
    "\n",
    "We provide some examples for using the `stream` package for running simulations of GD-1. Simulations are made using the code `stream.simulate()`, which returns a list of phase space trajectories for $N$ stars. By default, `stream.simulate()` runs a simulation with default parameters, including a single perturbing subhalo described by the Bonaca-Hernquist profile.\n",
    "\n",
    "Another useful module is the `coordinates` module, which transforms from galactocentric coordinates to celestial coordinates (especially, the sky positions $\\phi_1$-$\\phi_2$)."
   ]
  },
  {
   "cell_type": "code",
   "execution_count": 10,
   "id": "4810977b",
   "metadata": {},
   "outputs": [],
   "source": [
    "import numpy as np\n",
    "import matplotlib.pyplot as plt\n",
    "from multiprocessing import Pool\n",
    "import pandas as pd\n",
    "import os\n",
    "# from mpi4py import MPI\n",
    "\n",
    "import stream"
   ]
  },
  {
   "cell_type": "code",
   "execution_count": 11,
   "id": "9508357b",
   "metadata": {},
   "outputs": [],
   "source": [
    "# Retrieve num_data from environment variable in bash-script\n",
    "# num_data = int(os.getenv(\"num_data\", \"0\"))  # Default = 0"
   ]
  },
  {
   "cell_type": "code",
   "execution_count": 12,
   "id": "7d1c2dc5",
   "metadata": {},
   "outputs": [],
   "source": [
    "num_data = 0"
   ]
  },
  {
   "cell_type": "markdown",
   "id": "80b38d50",
   "metadata": {},
   "source": [
    "## Subhalo profiles\n",
    "\n",
    "Alternative profiles can be specified using the keyword `subhalo_profile_type`. \n",
    "Currently the following profiles are allowed:\n",
    "- tNFW (`subhalo_profile_type='tNFW'`): Also needs keyword `M_subhalo` to be set.\n",
    "- Hernquist (`subhalo_profile_type='Hern')`: Also needs keyword `M_subhalo` to be set.\n",
    "- SIDM from Jeans model (`subhalo_profile_type='Jeans')`: Also needs keywords `M_subhalo` and `sigma_m` to be set.\n",
    "- SIDM5 from numerical grid of profile data (`subhalo_profile_type='SIDM5')`: Also needs keywords `M_subhalo`.\n",
    "- Custom numerical profile (`subhalo_profile_type='numerical'`): Also needs keywords `M` and `r` to be set, as equal-length arrays."
   ]
  },
  {
   "cell_type": "markdown",
   "id": "fc5fc90c",
   "metadata": {},
   "source": [
    "Updated subhalo list:\n",
    "\n",
    "- tNFW: `subhalo_profile_type='tNFW'`\n",
    "- Cored profiles (SIDM with 5 cm²/g): `subhalo_profile_type='SIDM5_sph'`\n",
    "- Super-cuspy profiles for dissipative SIDM: `subhalo_profile ='DSIDM553_sph'`"
   ]
  },
  {
   "cell_type": "code",
   "execution_count": 13,
   "id": "80a443f0",
   "metadata": {},
   "outputs": [],
   "source": [
    "# Chose subhalo profile\n",
    "subhalo_profile = 'SIDM5_sph'"
   ]
  },
  {
   "cell_type": "markdown",
   "id": "28451b9d",
   "metadata": {},
   "source": [
    "## Import data"
   ]
  },
  {
   "cell_type": "code",
   "execution_count": 14,
   "id": "6ebf20e8",
   "metadata": {},
   "outputs": [],
   "source": [
    "data = pd.read_csv('../data/subhalo/Multiple_subhalo_impacts_samples.csv')"
   ]
  },
  {
   "cell_type": "code",
   "execution_count": 15,
   "id": "31ec4144",
   "metadata": {
    "scrolled": true
   },
   "outputs": [],
   "source": [
    "# Chose section and subhalos with t < 2 Gyr\n",
    "filtered_data = data[(data['num'] == num_data) & (data['t_since_impact'] <= 2)]\n",
    "\n",
    "# Assign parameter\n",
    "M_subhalo = data['M_subhalo'].values\n",
    "impact_position = data['fimp'].values\n",
    "b_impact_param = data['b'].values\n",
    "t_since_impact = data['t_since_impact'].values\n",
    "delta_logc = data['delta_logc'].values\n",
    "phi_impact = data['phi'].values\n",
    "theta_impact = data['theta'].values\n",
    "v_subhalo = data['v_subhalo'].values\n",
    "\n",
    "# Print data\n",
    "# print(filtered_data)"
   ]
  },
  {
   "cell_type": "markdown",
   "id": "04414f44",
   "metadata": {},
   "source": [
    "## Create list"
   ]
  },
  {
   "cell_type": "code",
   "execution_count": 16,
   "id": "669042b9",
   "metadata": {},
   "outputs": [],
   "source": [
    "# Create subhalo list\n",
    "subhalo_list = []\n",
    "\n",
    "for _, row in filtered_data.iterrows():\n",
    "    subhalo = {\n",
    "        'M_subhalo': row['M_subhalo'],\n",
    "        'impact_position': row['fimp'],\n",
    "        'b_impact_param': row['b'],\n",
    "        't_since_impact': row['t_since_impact'],\n",
    "        'delta_logc': row['delta_logc'],\n",
    "        'phi_impact': row['phi'],\n",
    "        'theta_impact': row['theta'],\n",
    "        'v_subhalo': row['v_subhalo']\n",
    "    }\n",
    "    subhalo_list.append(subhalo)"
   ]
  },
  {
   "cell_type": "code",
   "execution_count": 17,
   "id": "adfadf25",
   "metadata": {
    "scrolled": false
   },
   "outputs": [],
   "source": [
    "for subhalo in subhalo_list:\n",
    "    subhalo['subhalo_profile_type'] = subhalo_profile"
   ]
  },
  {
   "cell_type": "markdown",
   "id": "5a37ba46",
   "metadata": {},
   "source": [
    "## Simulate"
   ]
  },
  {
   "cell_type": "code",
   "execution_count": 18,
   "id": "511ad856",
   "metadata": {},
   "outputs": [],
   "source": [
    "tr = stream.simulate(subhalo_list=subhalo_list,verbose=False)\n",
    "# tr = stream.simulate(subhalo_list=subhalo_list,verbose=False)"
   ]
  },
  {
   "cell_type": "markdown",
   "id": "f2b6198b",
   "metadata": {},
   "source": [
    "## Multiprocessing\n",
    "\n",
    "By default, `stream.simulate()` makes a linear uniformly-distributed stream. A more realistic stream can be made by setting the keyword `star_distribution='random'`. One can also increase the number of stars by setting the `num_stars` keyword (the default is 100). \n",
    "\n",
    "The simulation time increases with the number of stars. This can be circumvented by running multiple simulations in parallel and combining the results into one stream. Remember to set `random_seed` to be different for each parallel process, otherwise you will get copies of the same random stream.\n",
    "\n",
    "Here we will get a respectable stream of 2000 stars by running 8 simulations in parallel."
   ]
  },
  {
   "cell_type": "code",
   "execution_count": 10,
   "id": "09221e72",
   "metadata": {},
   "outputs": [],
   "source": [
    "# inputs = [{'star_distribution':'random','random_seed':n, 'subhalo_list':subhalo_list, 'num_stars':250} for n in range(8)]\n",
    "\n",
    "# inputs = [{'star_distribution':'random',\n",
    "#            'random_seed':n,\n",
    "#            'subhalo_profile_type':'SIDM5',\n",
    "#            'M_subhalo':1e7,\n",
    "#            'num_stars':250} for n in range(8)]\n",
    "\n",
    "# num_processes = 20\n",
    "\n",
    "# Divide one stream simulation into parallel simulations\n",
    "# with Pool(num_processes) as p:\n",
    "#     output = p.map(stream.simulate,inputs)\n",
    "    \n",
    "# Put all trajectories together\n",
    "# tr = np.concatenate(output)\n",
    "# pos = stream.coordinates.transform(tr)"
   ]
  },
  {
   "cell_type": "code",
   "execution_count": 11,
   "id": "2627bf66",
   "metadata": {},
   "outputs": [],
   "source": [
    "num_processes = 2\n",
    "\n",
    "inputs = [{'star_distribution':'random', 'random_seed':n, 'subhalo_list':subhalo_list, 'num_stars':20} for n in range(num_processes)]\n",
    "\n",
    "# inputs = [{'star_distribution':'random',\n",
    "#            'random_seed':n,\n",
    "#            'subhalo_profile_type':'SIDM5',\n",
    "#            'M_subhalo':1e7,\n",
    "#            'num_stars':250} for n in range(8)]\n",
    "\n",
    "# Divide one stream simulation into parallel simulations\n",
    "with Pool(num_processes) as p:\n",
    "    output = p.map(stream.simulate, inputs)\n",
    "\n",
    "# Put all trajectories together\n",
    "tr = np.concatenate(output)\n",
    "pos = stream.coordinates.transform(tr)"
   ]
  },
  {
   "cell_type": "markdown",
   "id": "c83904cb",
   "metadata": {},
   "source": [
    "On the cluster, we use MPI to distribute the parallel processes on different nodes of the cluster such that one process runs on one node. "
   ]
  },
  {
   "cell_type": "code",
   "execution_count": 26,
   "id": "8edd61f5",
   "metadata": {},
   "outputs": [],
   "source": [
    "# Initialize MPI\n",
    "# comm = MPI.COMM_WORLD\n",
    "# rank = comm.Get_rank()  # Current rank\n",
    "# size = comm.Get_size()  # Number of processes\n",
    "\n",
    "# Number of simulations\n",
    "# num_simulations = 8\n",
    "\n",
    "# Generate inputs\n",
    "# inputs = [{'star_distribution': 'random', 'random_seed': rank, 'subhalo_list':subhalo_list, 'num_stars': 250} for rank in range(num_simulations)]\n",
    "\n",
    "# Divide the stream simulation into parallel simulations\n",
    "# output = stream.simulate(inputs[rank])\n",
    "\n",
    "# Put results together\n",
    "# all_outputs = comm.gather(output, root=0)  \n",
    "\n",
    "# if rank == 0:\n",
    "    # Put trajectories together\n",
    "#     tr = np.concatenate(all_outputs)\n",
    "#     pos = stream.coordinates.transform(tr)"
   ]
  },
  {
   "cell_type": "markdown",
   "id": "ec264a89",
   "metadata": {},
   "source": [
    "## Plot and save"
   ]
  },
  {
   "cell_type": "code",
   "execution_count": 12,
   "id": "6b77a57d",
   "metadata": {},
   "outputs": [
    {
     "data": {
      "image/png": "[encoded data removed]",
      "text/plain": [
       "<Figure size 800x200 with 1 Axes>"
      ]
     },
     "metadata": {},
     "output_type": "display_data"
    }
   ],
   "source": [
    "# Show and save stream plot\n",
    "\n",
    "plt.figure(figsize=(8,2))\n",
    "\n",
    "plt.plot(pos['phi1'],pos['phi2'],'.',markersize=2)\n",
    "\n",
    "plt.xlabel(r'$\\phi_1$')\n",
    "plt.ylabel(r'$\\phi_2$')\n",
    "plt.savefig(f'../results/{subhalo_profile}/stream_simulation_section{num_data}.pdf')\n",
    "plt.show()"
   ]
  },
  {
   "cell_type": "code",
   "execution_count": 13,
   "id": "24101a6c",
   "metadata": {},
   "outputs": [],
   "source": [
    "# Save trajectories data\n",
    "\n",
    "np.savez(f'../results/{subhalo_profile}/stream_trajectories_section{num_data}.npz', tr=tr)"
   ]
  },
  {
   "cell_type": "code",
   "execution_count": 14,
   "id": "35cf02b6",
   "metadata": {},
   "outputs": [],
   "source": [
    "# Show stream trajectories data\n",
    "# Load\n",
    "# data = np.load(f'../results/tNFW/stream_trajectories_section{num_data}.npz')\n",
    "\n",
    "# Show\n",
    "# for key in data:\n",
    "#     print(f\"Key '{key}':\\n\", data[key], \"\\n\")"
   ]
  },
  {
   "cell_type": "code",
   "execution_count": 15,
   "id": "ace16713",
   "metadata": {},
   "outputs": [
    {
     "name": "stdout",
     "output_type": "stream",
     "text": [
      "['tr']\n",
      "[[[-2.00000000e+00  1.01854168e+01 -3.48765860e+00 -8.88633140e+00\n",
      "    8.60367849e+01  2.63232364e+02  2.13229883e+01]\n",
      "  [ 0.00000000e+00 -1.06498152e+01  3.83535216e+00  8.08915351e+00\n",
      "   -1.35870710e+02 -2.30631650e+02 -7.73679373e+01]]\n",
      "\n",
      " [[-2.00000000e+00  1.04457457e+01 -2.66126577e+00 -8.80849456e+00\n",
      "    7.99555261e+01  2.64688004e+02  2.92738437e+01]\n",
      "  [ 0.00000000e+00 -1.20732956e+01  1.18050188e+00  6.88347234e+00\n",
      "   -1.05963967e+02 -2.36253675e+02 -1.01320558e+02]]\n",
      "\n",
      " [[-2.00000000e+00  1.05235033e+01 -2.39827359e+00 -8.77958558e+00\n",
      "    7.81190490e+01  2.64817978e+02  3.20205683e+01]\n",
      "  [ 0.00000000e+00 -1.23742830e+01  5.47980590e-01  6.61057094e+00\n",
      "   -9.88080670e+01 -2.36017524e+02 -1.06260968e+02]]\n",
      "\n",
      " [[-2.00000000e+00  1.15321864e+01  2.47763693e+00 -7.89142125e+00\n",
      "    3.50897635e+01  2.67827945e+02  6.64110169e+01]\n",
      "  [ 0.00000000e+00 -1.01523405e+01  4.64573646e+00  8.26733563e+00\n",
      "   -1.46201738e+02 -2.28641028e+02 -7.09931394e+01]]\n",
      "\n",
      " [[-2.00000000e+00  1.16058024e+01  3.13342034e+00 -7.72147287e+00\n",
      "    2.55292862e+01  2.66194160e+02  7.06375594e+01]\n",
      "  [ 0.00000000e+00 -1.13017806e+01  2.74014576e+00  7.63076123e+00\n",
      "   -1.23333227e+02 -2.36217660e+02 -8.74853964e+01]]\n",
      "\n",
      " [[-2.00000000e+00  1.16277735e+01  3.35971326e+00 -7.66003441e+00\n",
      "    2.60439053e+01  2.64627875e+02  7.37445415e+01]\n",
      "  [ 0.00000000e+00 -1.17240399e+01  1.85650381e+00  7.30895769e+00\n",
      "   -1.16147666e+02 -2.36515199e+02 -9.50650644e+01]]\n",
      "\n",
      " [[-2.00000000e+00  1.17271463e+01  4.82831242e+00 -7.22612248e+00\n",
      "    1.12956795e+01  2.60383922e+02  8.21428157e+01]\n",
      "  [ 0.00000000e+00 -1.21134305e+01  1.04358813e+00  6.96813642e+00\n",
      "   -1.06274315e+02 -2.38422640e+02 -1.00485824e+02]]\n",
      "\n",
      " [[-2.00000000e+00  1.17366619e+01  5.08248908e+00 -7.14476708e+00\n",
      "    1.05679562e+01  2.58715583e+02  8.41731900e+01]\n",
      "  [ 0.00000000e+00 -1.26967913e+01 -3.86038350e-01  6.34502487e+00\n",
      "   -9.15367355e+01 -2.37761267e+02 -1.10232664e+02]]\n",
      "\n",
      " [[-2.00000000e+00  1.17386452e+01  5.14481998e+00 -7.12453144e+00\n",
      "    1.00987975e+01  2.56766579e+02  8.26342676e+01]\n",
      "  [ 0.00000000e+00 -1.41820397e+01 -6.43106511e+00  2.97597874e+00\n",
      "   -1.95825749e+01 -2.17836911e+02 -1.38041023e+02]]\n",
      "\n",
      " [[-2.00000000e+00  1.17463346e+01  5.44890812e+00 -7.02419181e+00\n",
      "    6.21686535e+00  2.55690382e+02  8.81883574e+01]\n",
      "  [ 0.00000000e+00 -1.35747755e+01 -3.16891399e+00  4.93985099e+00\n",
      "   -5.68298856e+01 -2.32109147e+02 -1.27581664e+02]]\n",
      "\n",
      " [[-2.00000000e+00  1.17518040e+01  5.99393441e+00 -6.83758064e+00\n",
      "   -4.31328385e-01  2.53717234e+02  9.14201620e+01]\n",
      "  [ 0.00000000e+00 -1.33478684e+01 -2.35139037e+00  5.39019397e+00\n",
      "   -6.49323712e+01 -2.35106649e+02 -1.23515592e+02]]\n",
      "\n",
      " [[-2.00000000e+00  1.17437194e+01  6.66337123e+00 -6.59631764e+00\n",
      "   -4.43056760e+00  2.53397182e+02  9.41152126e+01]\n",
      "  [ 0.00000000e+00 -1.06683773e+01  3.76522319e+00  8.04970947e+00\n",
      "   -1.36854595e+02 -2.33327276e+02 -7.94922677e+01]]\n",
      "\n",
      " [[-2.00000000e+00  1.16969978e+01  7.71939006e+00 -6.18806814e+00\n",
      "   -1.67728401e+01  2.47527926e+02  9.85486502e+01]\n",
      "  [ 0.00000000e+00 -1.17639958e+01  1.87693872e+00  7.30576157e+00\n",
      "   -1.13577593e+02 -2.39117927e+02 -9.47347037e+01]]\n",
      "\n",
      " [[-2.00000000e+00  1.16196032e+01  8.65603337e+00 -5.79668791e+00\n",
      "   -2.33006836e+01  2.40494376e+02  1.03475007e+02]\n",
      "  [ 0.00000000e+00 -1.33118676e+01 -2.19263286e+00  5.46169227e+00\n",
      "   -6.90923711e+01 -2.36758255e+02 -1.20914986e+02]]\n",
      "\n",
      " [[-2.00000000e+00  1.15986946e+01  8.85480548e+00 -5.70997862e+00\n",
      "   -2.52926744e+01  2.39126649e+02  1.05062457e+02]\n",
      "  [ 0.00000000e+00 -1.31778672e+01 -1.76281233e+00  5.69877036e+00\n",
      "   -7.37393942e+01 -2.37626530e+02 -1.18917642e+02]]\n",
      "\n",
      " [[-2.00000000e+00  1.15268289e+01  9.44704105e+00 -5.44383893e+00\n",
      "   -3.25169277e+01  2.34251734e+02  1.08975410e+02]\n",
      "  [ 0.00000000e+00 -1.33603723e+01 -2.34384211e+00  5.42691747e+00\n",
      "   -6.39466811e+01 -2.36530585e+02 -1.23258199e+02]]\n",
      "\n",
      " [[-2.00000000e+00  1.14497338e+01  9.97924370e+00 -5.19448737e+00\n",
      "   -3.67242968e+01  2.29786215e+02  1.09369376e+02]\n",
      "  [ 0.00000000e+00 -1.41434779e+01 -6.76125383e+00  2.78786938e+00\n",
      "   -1.26482098e+01 -2.18183391e+02 -1.40038545e+02]]\n",
      "\n",
      " [[-2.00000000e+00  1.13999804e+01  1.02847415e+01 -5.04687621e+00\n",
      "   -3.64595572e+01  2.28371936e+02  1.11677325e+02]\n",
      "  [ 0.00000000e+00 -1.39073271e+01 -4.79535483e+00  4.06252713e+00\n",
      "   -3.96879976e+01 -2.28055320e+02 -1.33357770e+02]]\n",
      "\n",
      " [[-2.00000000e+00  1.13156735e+01  1.07532571e+01 -4.81398138e+00\n",
      "   -4.35199874e+01  2.24469858e+02  1.12414530e+02]\n",
      "  [ 0.00000000e+00 -1.40888641e+01 -6.15967103e+00  3.17273256e+00\n",
      "   -1.99511980e+01 -2.22302676e+02 -1.37906702e+02]]\n",
      "\n",
      " [[-2.00000000e+00  1.12108867e+01  1.12711069e+01 -4.54711801e+00\n",
      "   -4.70257893e+01  2.18789838e+02  1.16054407e+02]\n",
      "  [ 0.00000000e+00 -1.41630369e+01 -8.24677906e+00  1.86714667e+00\n",
      "    3.48892351e+00 -2.08614349e+02 -1.44021287e+02]]\n",
      "\n",
      " [[-2.00000000e+00  1.00763330e+01 -3.81261176e+00 -8.91147746e+00\n",
      "    9.01652634e+01  2.60576641e+02  1.87335864e+01]\n",
      "  [ 0.00000000e+00 -1.28313335e+01 -6.22238711e-01  6.06591333e+00\n",
      "   -8.45990318e+01 -2.35643194e+02 -1.12716483e+02]]\n",
      "\n",
      " [[-2.00000000e+00  1.02234886e+01 -3.37148881e+00 -8.87658960e+00\n",
      "    8.69956342e+01  2.64496967e+02  2.34832995e+01]\n",
      "  [ 0.00000000e+00 -7.49584338e+00  8.26769516e+00  9.24369559e+00\n",
      "   -1.77495265e+02 -2.05134343e+02 -3.83813169e+01]]\n",
      "\n",
      " [[-2.00000000e+00  1.05481837e+01 -2.31302999e+00 -8.76978994e+00\n",
      "    7.65767892e+01  2.66521714e+02  3.11931810e+01]\n",
      "  [ 0.00000000e+00 -1.02280335e+01  4.53573064e+00  8.29178616e+00\n",
      "   -1.43201681e+02 -2.28169547e+02 -7.20585858e+01]]\n",
      "\n",
      " [[-2.00000000e+00  1.07644125e+01 -1.52454356e+00 -8.66937491e+00\n",
      "    7.02882713e+01  2.68243828e+02  3.72635535e+01]\n",
      "  [ 0.00000000e+00 -9.38129248e+00  5.87459186e+00  8.68312194e+00\n",
      "   -1.56159247e+02 -2.21772969e+02 -6.08694438e+01]]\n",
      "\n",
      " [[-2.00000000e+00  1.07915146e+01 -1.41977190e+00 -8.65470663e+00\n",
      "    6.81045164e+01  2.68578504e+02  3.80771167e+01]\n",
      "  [ 0.00000000e+00 -9.98867993e+00  4.92081170e+00  8.39563129e+00\n",
      "   -1.46263683e+02 -2.27194646e+02 -6.88591523e+01]]\n",
      "\n",
      " [[-2.00000000e+00  1.09513607e+01 -7.68967640e-01 -8.55667686e+00\n",
      "    6.42892128e+01  2.70115549e+02  4.31449125e+01]\n",
      "  [ 0.00000000e+00 -6.68956770e+00  9.14318342e+00  9.39789479e+00\n",
      "   -1.84164064e+02 -1.98846222e+02 -2.86641171e+01]]\n",
      "\n",
      " [[-2.00000000e+00  1.09964849e+01 -5.73656059e-01 -8.52494154e+00\n",
      "    6.07797957e+01  2.68111078e+02  4.49043107e+01]\n",
      "  [ 0.00000000e+00 -1.21712826e+01  9.47288740e-01  6.87260156e+00\n",
      "   -1.03611787e+02 -2.36985042e+02 -1.01947176e+02]]\n",
      "\n",
      " [[-2.00000000e+00  1.10201529e+01 -4.68876487e-01 -8.50747711e+00\n",
      "    6.03437508e+01  2.68495482e+02  4.52615024e+01]\n",
      "  [ 0.00000000e+00 -1.17891776e+01  1.77877805e+00  7.21423929e+00\n",
      "   -1.13553134e+02 -2.36205859e+02 -9.54228343e+01]]\n",
      "\n",
      " [[-2.00000000e+00  1.13374290e+01  1.14588231e+00 -8.19970711e+00\n",
      "    4.46391788e+01  2.69244488e+02  5.66661083e+01]\n",
      "  [ 0.00000000e+00 -1.11178506e+01  3.06970410e+00  7.73166818e+00\n",
      "   -1.27267460e+02 -2.34682099e+02 -8.46872627e+01]]\n",
      "\n",
      " [[-2.00000000e+00  1.14489371e+01  1.85689017e+00 -8.04124573e+00\n",
      "    4.01280954e+01  2.68032055e+02  6.29547927e+01]\n",
      "  [ 0.00000000e+00 -1.09746898e+01  3.29883816e+00  7.82915443e+00\n",
      "   -1.31649374e+02 -2.33123984e+02 -8.33625604e+01]]\n",
      "\n",
      " [[-2.00000000e+00  1.15582629e+01  2.69535422e+00 -7.83633122e+00\n",
      "    2.96096796e+01  2.66209976e+02  6.89705941e+01]\n",
      "  [ 0.00000000e+00 -1.20184872e+01  1.27572075e+00  7.06206567e+00\n",
      "   -1.06866951e+02 -2.37947502e+02 -9.96387725e+01]]\n",
      "\n",
      " [[-2.00000000e+00  1.15947045e+01  3.02551484e+00 -7.75026349e+00\n",
      "    2.66759911e+01  2.64944064e+02  7.04089018e+01]\n",
      "  [ 0.00000000e+00 -1.28580249e+01 -7.99377010e-01  6.12559911e+00\n",
      "   -8.32234128e+01 -2.37811775e+02 -1.13151522e+02]]\n",
      "\n",
      " [[-2.00000000e+00  1.15951861e+01  3.03011775e+00 -7.74904203e+00\n",
      "    2.61504903e+01  2.65601375e+02  7.13756760e+01]\n",
      "  [ 0.00000000e+00 -1.19065837e+01  1.52690228e+00  7.17166820e+00\n",
      "   -1.09311658e+02 -2.37895217e+02 -9.79094177e+01]]\n",
      "\n",
      " [[-2.00000000e+00  1.15983849e+01  3.06087029e+00 -7.74086612e+00\n",
      "    2.64526946e+01  2.65566322e+02  6.91017431e+01]\n",
      "  [ 0.00000000e+00 -1.25586995e+01 -3.77801509e-03  6.49346081e+00\n",
      "   -9.30979754e+01 -2.38805932e+02 -1.06845518e+02]]\n",
      "\n",
      " [[-2.00000000e+00  1.17333252e+01  4.98616239e+00 -7.17581827e+00\n",
      "    9.36808221e+00  2.57096900e+02  8.44040523e+01]\n",
      "  [ 0.00000000e+00 -1.39425304e+01 -5.06385825e+00  3.81811040e+00\n",
      "   -3.28161320e+01 -2.24982111e+02 -1.35544298e+02]]\n",
      "\n",
      " [[-2.00000000e+00  1.17430115e+01  5.30117613e+00 -7.07327473e+00\n",
      "    6.94695453e+00  2.57640283e+02  8.41628294e+01]\n",
      "  [ 0.00000000e+00 -1.33943655e+01 -2.45038267e+00  5.30115336e+00\n",
      "   -6.56930124e+01 -2.35209771e+02 -1.21777359e+02]]\n",
      "\n",
      " [[-2.00000000e+00  1.17318551e+01  7.04071995e+00 -6.45437144e+00\n",
      "   -8.13085994e+00  2.51490486e+02  9.30479001e+01]\n",
      "  [ 0.00000000e+00 -1.22840022e+01  6.18012682e-01  6.73923147e+00\n",
      "   -1.03236906e+02 -2.39763081e+02 -1.02081737e+02]]\n",
      "\n",
      " [[-2.00000000e+00  1.17222363e+01  7.26576409e+00 -6.36764606e+00\n",
      "   -1.02316279e+01  2.49845088e+02  9.68089701e+01]\n",
      "  [ 0.00000000e+00 -1.17161307e+01  1.83267952e+00  7.31796643e+00\n",
      "   -1.16096408e+02 -2.38229190e+02 -9.46995253e+01]]\n",
      "\n",
      " [[-2.00000000e+00  1.16919142e+01  7.79662314e+00 -6.15685313e+00\n",
      "   -1.78620736e+01  2.45859503e+02  9.90563466e+01]\n",
      "  [ 0.00000000e+00 -1.30030171e+01 -1.16141678e+00  5.96350026e+00\n",
      "   -7.84478330e+01 -2.38985625e+02 -1.15348000e+02]]\n",
      "\n",
      " [[-2.00000000e+00  1.14316176e+01  1.00934007e+01 -5.13971577e+00\n",
      "   -3.76161710e+01  2.27669888e+02  1.11007558e+02]\n",
      "  [ 0.00000000e+00 -1.41603454e+01 -8.44625701e+00  1.68037368e+00\n",
      "    7.26529209e+00 -2.06462664e+02 -1.44651691e+02]]]\n"
     ]
    }
   ],
   "source": [
    "# Lade die .npz-Datei\n",
    "data = np.load(f'../results/{subhalo_profile}/stream_trajectories_section{num_data}.npz')\n",
    "\n",
    "# Überprüfe, welche Arrays in der Datei gespeichert sind\n",
    "print(data.files)\n",
    "\n",
    "# Extrahiere das Array 'tr' (oder welches auch immer du gespeichert hast)\n",
    "tr = data['tr']\n",
    "\n",
    "# Zeige das Array an\n",
    "print(tr)\n"
   ]
  },
  {
   "cell_type": "code",
   "execution_count": 16,
   "id": "37520113",
   "metadata": {},
   "outputs": [
    {
     "name": "stdout",
     "output_type": "stream",
     "text": [
      "(40, 2, 7)\n"
     ]
    }
   ],
   "source": [
    "print(tr.shape)"
   ]
  },
  {
   "cell_type": "code",
   "execution_count": 19,
   "id": "cac782af",
   "metadata": {},
   "outputs": [
    {
     "name": "stdout",
     "output_type": "stream",
     "text": [
      "-12.073295588117672\n"
     ]
    }
   ],
   "source": [
    "# Test\n",
    "\n",
    "test = tr[1,-1,1]\n",
    "print(test)"
   ]
  },
  {
   "cell_type": "code",
   "execution_count": null,
   "id": "179953fe",
   "metadata": {},
   "outputs": [],
   "source": [
    "def transform(tr, rsun=[-8,0,0],vsun=[]):\n",
    "\n",
    "    # number of stars\n",
    "    num_stars = len(tr)\n",
    "    \n",
    "    # Galactocentric coords\n",
    "    x = tr[:,-1,1]\n",
    "    y = tr[:,-1,2]\n",
    "    z = tr[:,-1,3]\n",
    "\n",
    "    v_x = tr[:,-1,4]\n",
    "    v_y = tr[:,-1,5]\n",
    "    v_z = tr[:,-1,6]\n",
    "    \n",
    "    #Determine galactocentric coordinates relative to sun\n",
    "    xrel = np.array( x - rsun[0] )\n",
    "    yrel = np.array( y - rsun[1] )\n",
    "    zrel = np.array( z - rsun[2] )"
   ]
  },
  {
   "cell_type": "code",
   "execution_count": 15,
   "id": "9dfdda2e",
   "metadata": {},
   "outputs": [],
   "source": [
    "# Data output for the power spectrum\n",
    "\n",
    "data_power_spectrum = pd.DataFrame(pos['phi1'], columns=['x'])\n",
    "# simulation_data = f'../results/{subhalo_profile}/data_output_power_section{num_data}.csv'\n",
    "simulation_data = f'../results/{subhalo_profile}/data_output_power_section_test{num_data}.csv'\n",
    "\n",
    "data_power_spectrum.to_csv(simulation_data, index=False) "
   ]
  },
  {
   "cell_type": "code",
   "execution_count": null,
   "id": "f979425e",
   "metadata": {},
   "outputs": [],
   "source": []
  }
 ],
 "metadata": {
  "kernelspec": {
   "display_name": "Python 3 (ipykernel)",
   "language": "python",
   "name": "python3"
  },
  "language_info": {
   "codemirror_mode": {
    "name": "ipython",
    "version": 3
   },
   "file_extension": ".py",
   "mimetype": "text/x-python",
   "name": "python",
   "nbconvert_exporter": "python",
   "pygments_lexer": "ipython3",
   "version": "3.11.5"
  }
 },
 "nbformat": 4,
 "nbformat_minor": 5
}
