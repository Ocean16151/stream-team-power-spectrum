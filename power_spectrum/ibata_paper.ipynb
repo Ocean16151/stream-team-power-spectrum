{
 "cells": [
  {
   "cell_type": "code",
   "execution_count": null,
   "id": "d225f484",
   "metadata": {},
   "outputs": [],
   "source": [
    "import numpy as np\n",
    "import matplotlib.pyplot as plt\n",
    "import pandas as pd\n",
    "import sympy as sp\n",
    "import math\n",
    "import random\n",
    "import scipy.integrate as integrate\n",
    "from scipy.integrate import quad\n",
    "from scipy.optimize import curve_fit\n",
    "from scipy.signal import csd\n",
    "from sympy import *\n",
    "from sympy import symbols\n",
    "from sympy import integrate\n",
    "\n",
    "import numpy as np\n",
    "from scipy.optimize import curve_fit"
   ]
  },
  {
   "cell_type": "code",
   "execution_count": null,
   "id": "43659723",
   "metadata": {},
   "outputs": [],
   "source": [
    "# This is the fitting function that's used in the paper\n",
    "def ibata_fitting(phi1):\n",
    "    phi1 = phi1*np.pi/180\n",
    "    C = -37.51*phi1**2 - 46.51*phi1+14.37\n",
    "    return C\n",
    "\n",
    "# This is the fitting function that's used in the paper divided by 1.25\n",
    "def ibata_fitting_modified(phi1):\n",
    "    phi1 = phi1*np.pi/180\n",
    "    C = -37.51*phi1**2 - 46.51*phi1+14.37\n",
    "    C = C/1.25\n",
    "    return C"
   ]
  }
 ],
 "metadata": {
  "kernelspec": {
   "display_name": "Python 3 (ipykernel)",
   "language": "python",
   "name": "python3"
  },
  "language_info": {
   "codemirror_mode": {
    "name": "ipython",
    "version": 3
   },
   "file_extension": ".py",
   "mimetype": "text/x-python",
   "name": "python",
   "nbconvert_exporter": "python",
   "pygments_lexer": "ipython3",
   "version": "3.11.5"
  }
 },
 "nbformat": 4,
 "nbformat_minor": 5
}
