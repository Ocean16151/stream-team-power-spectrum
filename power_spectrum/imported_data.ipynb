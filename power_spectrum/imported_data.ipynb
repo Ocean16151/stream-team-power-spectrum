{
 "cells": [
  {
   "cell_type": "code",
   "execution_count": null,
   "id": "eee10e0e",
   "metadata": {},
   "outputs": [],
   "source": [
    "import numpy as np\n",
    "import matplotlib.pyplot as plt\n",
    "import pandas as pd\n",
    "import sympy as sp\n",
    "import math\n",
    "import random\n",
    "import scipy.integrate as integrate\n",
    "from scipy.integrate import quad\n",
    "from scipy.optimize import curve_fit\n",
    "from scipy.signal import csd\n",
    "from sympy import *\n",
    "from sympy import symbols\n",
    "from sympy import integrate\n",
    "\n",
    "import numpy as np\n",
    "from scipy.optimize import curve_fit\n",
    "\n",
    "def calculate_bin_min_max(x, bin_number):\n",
    "    \n",
    "    # Calculates bin size and upper and lower limit of a given list of bins with length = bin_number\n",
    "    # a) Calculate bin size \n",
    "    bin_size = (max(x) - min(x)) / (bin_number - 1)\n",
    "    \n",
    "    # b) Calculate upper and lower limit\n",
    "    bin_min = x - bin_size_x / 2\n",
    "    bin_max = phi + bin_size_x / 2\n",
    "    \n",
    "    return bin_size, bin_min, bin_max\n",
    "\n",
    "def bin_data(phi_sim, bin_min, bin_max, bin_number):\n",
    "    \n",
    "    phi_counts = []  \n",
    "    size_phi_sim = len(phi_sim)\n",
    "    \n",
    "    for i in range(bin_number):\n",
    "        counts_i = 0  \n",
    "        \n",
    "        # Check all values of phi_sim if they are within a bin\n",
    "        for j in range(size_phi_sim):\n",
    "            if bin_min[i] < phi_sim[j] < bin_max[i]:\n",
    "                counts_i += 1\n",
    "        \n",
    "        # Append list\n",
    "        phi_counts.append(counts_i)\n",
    "    \n",
    "    return phi_counts"
   ]
  }
 ],
 "metadata": {
  "kernelspec": {
   "display_name": "Python 3 (ipykernel)",
   "language": "python",
   "name": "python3"
  },
  "language_info": {
   "codemirror_mode": {
    "name": "ipython",
    "version": 3
   },
   "file_extension": ".py",
   "mimetype": "text/x-python",
   "name": "python",
   "nbconvert_exporter": "python",
   "pygments_lexer": "ipython3",
   "version": "3.11.5"
  }
 },
 "nbformat": 4,
 "nbformat_minor": 5
}
