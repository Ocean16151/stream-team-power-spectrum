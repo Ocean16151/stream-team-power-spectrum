{
 "cells": [
  {
   "cell_type": "code",
   "execution_count": null,
   "id": "eee10e0e",
   "metadata": {},
   "outputs": [],
   "source": [
    "import numpy as np\n",
    "import matplotlib.pyplot as plt\n",
    "import pandas as pd\n",
    "import sympy as sp\n",
    "import math\n",
    "import random\n",
    "import scipy.integrate as integrate\n",
    "from scipy.integrate import quad\n",
    "from scipy.integrate import solve_ivp\n",
    "from scipy.optimize import curve_fit\n",
    "from scipy.signal import csd\n",
    "from sympy import *\n",
    "from sympy import symbols\n",
    "from sympy import integrate\n",
    "\n",
    "import numpy as np\n",
    "from scipy.optimize import curve_fit"
   ]
  },
  {
   "cell_type": "code",
   "execution_count": null,
   "id": "4cbd31f6",
   "metadata": {},
   "outputs": [],
   "source": [
    "def integrand(phi_f_value):\n",
    "    \n",
    "    phi_f = symbols('phi_f')\n",
    "    \n",
    "    # Polynom\n",
    "    # Coefficients\n",
    "    a5, a4, a3, a2, a1, a0 = -4.302, -11.54, -7.161, 5.985, 8.595, 10.36\n",
    "\n",
    "    # Function\n",
    "    D = a5*(phi_f**5) + a4*(phi_f**4) + a3*(phi_f**3) + a2*(phi_f**2) + a1*(phi_f) + a0\n",
    "\n",
    "    # Calculate derivative\n",
    "    D_derivative = diff(D, phi_f)\n",
    "\n",
    "    # Calculate integrand\n",
    "    integrand_squared = D**2 + D_derivative**2\n",
    "    integrand_non_numerical = sqrt(integrand_squared)\n",
    "    \n",
    "    integrand_function = lambdify(phi_f, integrand_non_numerical, 'numpy')\n",
    "    integrand_result = integrand_function(phi_f_value)\n",
    "\n",
    "    # Result\n",
    "    return integrand_result"
   ]
  },
  {
   "cell_type": "code",
   "execution_count": null,
   "id": "69559a4d",
   "metadata": {},
   "outputs": [],
   "source": [
    "def integrand_differential_equation(phi_f, y):\n",
    "    return integrand(phi_f)"
   ]
  },
  {
   "cell_type": "code",
   "execution_count": null,
   "id": "fdad09a1",
   "metadata": {},
   "outputs": [],
   "source": [
    "def perform_integration(random_phi):\n",
    "    # Array for results\n",
    "    integral_results = np.zeros(len(random_phi))\n",
    "\n",
    "    # Integrate \n",
    "    for i, phi_f_end in enumerate(random_phi):\n",
    "        result = solve_ivp(integrand_differential_equation, [0, phi_f_end], [0], t_eval=[phi_f_end])\n",
    "        integral_results[i] = result.y[0][-1]\n",
    "\n",
    "    return integral_results"
   ]
  },
  {
   "cell_type": "code",
   "execution_count": null,
   "id": "e4776a52",
   "metadata": {},
   "outputs": [],
   "source": []
  }
 ],
 "metadata": {
  "kernelspec": {
   "display_name": "Python 3 (ipykernel)",
   "language": "python",
   "name": "python3"
  },
  "language_info": {
   "codemirror_mode": {
    "name": "ipython",
    "version": 3
   },
   "file_extension": ".py",
   "mimetype": "text/x-python",
   "name": "python",
   "nbconvert_exporter": "python",
   "pygments_lexer": "ipython3",
   "version": "3.11.5"
  }
 },
 "nbformat": 4,
 "nbformat_minor": 5
}
