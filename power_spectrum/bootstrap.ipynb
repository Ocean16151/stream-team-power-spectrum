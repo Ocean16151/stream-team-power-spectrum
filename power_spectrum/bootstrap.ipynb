{
 "cells": [
  {
   "cell_type": "code",
   "execution_count": null,
   "id": "15d99c88",
   "metadata": {},
   "outputs": [],
   "source": [
    "import numpy as np\n",
    "import pandas as pd"
   ]
  },
  {
   "cell_type": "code",
   "execution_count": null,
   "id": "344b563a",
   "metadata": {},
   "outputs": [],
   "source": [
    "def bootstrap_sampling(phi1_positions, phi2_positions, num_iterations=1000, num_stars=2000):\n",
    "    \"\"\"Führt Bootstrap-Sampling durch und gibt die Ergebnisse für phi1, phi2 und chosen_indices zurück.\"\"\"\n",
    "    chosen_indices = (phi1_positions >= -90) & (phi1_positions <= 10)\n",
    "    phi1_filtered = phi1_positions[chosen_indices]\n",
    "    phi2_filtered = phi2_positions[chosen_indices]\n",
    "\n",
    "    bootstrap_phi1_samples = []\n",
    "    bootstrap_phi2_samples = []\n",
    "    bootstrap_indices_list = []  # Speichert die Bootstrap-Indizes für später\n",
    "\n",
    "    for _ in range(num_iterations):\n",
    "        bootstrap_indices = np.random.choice(len(phi1_filtered), num_stars, replace=True)\n",
    "        phi1_bootstrap = phi1_filtered[bootstrap_indices]\n",
    "        phi2_bootstrap = phi2_filtered[bootstrap_indices]\n",
    "\n",
    "        bootstrap_phi1_samples.append(phi1_bootstrap)\n",
    "        bootstrap_phi2_samples.append(phi2_bootstrap)\n",
    "        bootstrap_indices_list.append(bootstrap_indices)\n",
    "\n",
    "    return bootstrap_phi1_samples, bootstrap_phi2_samples, chosen_indices, bootstrap_indices_list"
   ]
  }
 ],
 "metadata": {
  "kernelspec": {
   "display_name": "Python 3 (ipykernel)",
   "language": "python",
   "name": "python3"
  },
  "language_info": {
   "codemirror_mode": {
    "name": "ipython",
    "version": 3
   },
   "file_extension": ".py",
   "mimetype": "text/x-python",
   "name": "python",
   "nbconvert_exporter": "python",
   "pygments_lexer": "ipython3",
   "version": "3.11.5"
  }
 },
 "nbformat": 4,
 "nbformat_minor": 5
}
