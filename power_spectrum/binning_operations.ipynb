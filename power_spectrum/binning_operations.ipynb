{
 "cells": [
  {
   "cell_type": "code",
   "execution_count": null,
   "id": "eee10e0e",
   "metadata": {},
   "outputs": [],
   "source": [
    "import numpy as np\n",
    "import matplotlib.pyplot as plt\n",
    "import pandas as pd\n",
    "import sympy as sp\n",
    "import math\n",
    "import random\n",
    "import scipy.integrate as integrate\n",
    "from scipy.integrate import quad\n",
    "from scipy.optimize import curve_fit\n",
    "from scipy.signal import csd\n",
    "from sympy import *\n",
    "from sympy import symbols\n",
    "from sympy import integrate\n",
    "\n",
    "import numpy as np\n",
    "from scipy.optimize import curve_fit"
   ]
  },
  {
   "cell_type": "code",
   "execution_count": null,
   "id": "312aa0d5",
   "metadata": {},
   "outputs": [],
   "source": [
    "def calculate_bin_size_array(x, bin_number):\n",
    "    \n",
    "    # Reads in the limits of an array, a number of bins can be chosen and the bin size will be calculated\n",
    "    bin_size = (max(x) - min(x)) / (bin_number)\n",
    "       \n",
    "    return bin_size"
   ]
  },
  {
   "cell_type": "code",
   "execution_count": null,
   "id": "016059c8",
   "metadata": {},
   "outputs": [],
   "source": [
    "def calculate_bin_size_bounds(minimum, maximum, bin_number):\n",
    "    \n",
    "    # Calculates the bin size, if a mininum, maximum and the number of bins are given\n",
    "    bin_size = (maximum - minimum) / (bin_number)\n",
    "    \n",
    "    return bin_size"
   ]
  },
  {
   "cell_type": "code",
   "execution_count": null,
   "id": "4288b0df",
   "metadata": {},
   "outputs": [],
   "source": [
    "def create_binning(bin_min, bin_size, bin_number):\n",
    "    \n",
    "    # Creates a binning\n",
    "    binning = []\n",
    "    binning.append(bin_min)\n",
    "    num_bins = bin_number - 1\n",
    "\n",
    "    binning_i = bin_min + bin_size\n",
    "    for i in range(num_bins):\n",
    "        binning_i += bin_size\n",
    "        binning.append(binning_i)\n",
    "    \n",
    "    return binning"
   ]
  },
  {
   "cell_type": "code",
   "execution_count": null,
   "id": "74237920",
   "metadata": {},
   "outputs": [],
   "source": [
    "def binning_bounds(bins, bin_size):\n",
    "    \n",
    "    # Calculate upper and lower bounds for the bins\n",
    "    binning_min = [bin_value - bin_size / 2 for bin_value in bins]\n",
    "    binning_max = [bin_value + bin_size / 2 for bin_value in bins]\n",
    "    \n",
    "    return binning_min, binning_max"
   ]
  },
  {
   "cell_type": "code",
   "execution_count": null,
   "id": "e0b8da69",
   "metadata": {},
   "outputs": [],
   "source": [
    "def bin_data(phi_sim, bin_min, bin_max, bin_number):\n",
    "    \n",
    "    phi_counts = []  \n",
    "    size_phi_sim = len(phi_sim)\n",
    "    \n",
    "    for i in range(bin_number):\n",
    "        counts_i = 0  \n",
    "        \n",
    "        # Check if a value lies within a bin\n",
    "        for j in range(size_phi_sim):\n",
    "            if bin_min[i] < phi_sim[j] < bin_max[i]:\n",
    "                counts_i += 1\n",
    "        \n",
    "        # Append list\n",
    "        phi_counts.append(counts_i)\n",
    "    \n",
    "    return phi_counts"
   ]
  },
  {
   "cell_type": "code",
   "execution_count": null,
   "id": "160eac57",
   "metadata": {},
   "outputs": [],
   "source": [
    "def random_values(counts_phi, binning, bin_size):\n",
    "    random_phi = []\n",
    "    \n",
    "    for j in range(len(counts_phi))\n",
    "        counts_bin = int(round(counts_phi[j], 0))  \n",
    "        for i in range(counts_bin):\n",
    "            random_number = random.uniform(binning[j] - bin_size / 2, binning[j] + bin_size / 2)\n",
    "            random_number_rad = random_number * (np.pi / 180)  \n",
    "            random_phi.append(random_number_rad)\n",
    "    \n",
    "    return random_phi "
   ]
  }
 ],
 "metadata": {
  "kernelspec": {
   "display_name": "Python 3 (ipykernel)",
   "language": "python",
   "name": "python3"
  },
  "language_info": {
   "codemirror_mode": {
    "name": "ipython",
    "version": 3
   },
   "file_extension": ".py",
   "mimetype": "text/x-python",
   "name": "python",
   "nbconvert_exporter": "python",
   "pygments_lexer": "ipython3",
   "version": "3.11.5"
  }
 },
 "nbformat": 4,
 "nbformat_minor": 5
}
